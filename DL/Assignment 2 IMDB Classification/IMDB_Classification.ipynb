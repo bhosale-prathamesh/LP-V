{
  "nbformat": 4,
  "nbformat_minor": 0,
  "metadata": {
    "colab": {
      "provenance": []
    },
    "kernelspec": {
      "name": "python3",
      "display_name": "Python 3"
    },
    "language_info": {
      "name": "python"
    }
  },
  "cells": [
    {
      "cell_type": "code",
      "execution_count": null,
      "metadata": {
        "id": "ZJ73hTnV9xhL"
      },
      "outputs": [],
      "source": [
        "%matplotlib inline\n",
        "import matplotlib\n",
        "import matplotlib.pyplot as plt\n",
        "\n",
        "import numpy as np\n",
        "from keras.utils import to_categorical\n",
        "from keras import models\n",
        "from keras import layers"
      ]
    },
    {
      "cell_type": "code",
      "source": [
        "from keras.datasets import imdb\n",
        "(training_data, training_targets), (testing_data, testing_targets) = imdb.load_data(num_words=10000)\n",
        "data = np.concatenate((training_data, testing_data), axis=0)\n",
        "targets = np.concatenate((training_targets, testing_targets), axis=0)"
      ],
      "metadata": {
        "id": "mhDjoO_5A_bA",
        "colab": {
          "base_uri": "https://localhost:8080/"
        },
        "outputId": "32cd8b8b-01bf-4a4f-a53a-153beb7691b2"
      },
      "execution_count": null,
      "outputs": [
        {
          "output_type": "stream",
          "name": "stdout",
          "text": [
            "Downloading data from https://storage.googleapis.com/tensorflow/tf-keras-datasets/imdb.npz\n",
            "17464789/17464789 [==============================] - 0s 0us/step\n"
          ]
        }
      ]
    },
    {
      "cell_type": "code",
      "source": [
        "def vectorize(sequences, dimension = 10000):\n",
        " results = np.zeros((len(sequences), dimension))\n",
        " for i, sequence in enumerate(sequences):\n",
        "  results[i, sequence] = 1\n",
        " return results"
      ],
      "metadata": {
        "id": "kC2-En2bJeks"
      },
      "execution_count": null,
      "outputs": []
    },
    {
      "cell_type": "code",
      "source": [
        "data = vectorize(data)\n",
        "targets = np.array(targets).astype(\"float32\")\n",
        "test_x = data[:10000]\n",
        "test_y = targets[:10000]\n",
        "train_x = data[10000:]\n",
        "train_y = targets[10000:]"
      ],
      "metadata": {
        "id": "xix_oIl3JmJ7"
      },
      "execution_count": null,
      "outputs": []
    },
    {
      "cell_type": "code",
      "source": [
        "model = models.Sequential([layers.Dense(50, activation = \"relu\", input_shape=(10000, )),\n",
        "                          layers.Dropout(0.3, noise_shape=None, seed=None),\n",
        "                          layers.Dense(50, activation = \"relu\"),\n",
        "                          layers.Dropout(0.2, noise_shape=None, seed=None),\n",
        "                          layers.Dense(50, activation = \"relu\"),\n",
        "                          layers.Dense(1, activation = \"sigmoid\")])"
      ],
      "metadata": {
        "id": "R4TEpdWKKJw9"
      },
      "execution_count": null,
      "outputs": []
    },
    {
      "cell_type": "code",
      "source": [
        "model.compile(\n",
        " optimizer = \"adam\",\n",
        " loss = \"binary_crossentropy\",\n",
        " metrics = [\"accuracy\"]\n",
        ")"
      ],
      "metadata": {
        "id": "3e-OWw4JKfpJ"
      },
      "execution_count": null,
      "outputs": []
    },
    {
      "cell_type": "code",
      "source": [
        "results = model.fit(\n",
        " train_x, train_y,\n",
        " epochs= 10,\n",
        " batch_size = 500,\n",
        " validation_data = (test_x, test_y)\n",
        ")"
      ],
      "metadata": {
        "colab": {
          "base_uri": "https://localhost:8080/"
        },
        "id": "hrm98g8eKv9V",
        "outputId": "4645358f-edc9-4052-9709-8095e73f545a"
      },
      "execution_count": null,
      "outputs": [
        {
          "output_type": "stream",
          "name": "stdout",
          "text": [
            "Epoch 1/10\n",
            "80/80 [==============================] - 4s 35ms/step - loss: 0.3960 - accuracy: 0.8277 - val_loss: 0.2608 - val_accuracy: 0.8968\n",
            "Epoch 2/10\n",
            "80/80 [==============================] - 4s 52ms/step - loss: 0.2136 - accuracy: 0.9194 - val_loss: 0.2636 - val_accuracy: 0.8937\n",
            "Epoch 3/10\n",
            "80/80 [==============================] - 5s 67ms/step - loss: 0.1568 - accuracy: 0.9422 - val_loss: 0.2867 - val_accuracy: 0.8908\n",
            "Epoch 4/10\n",
            "80/80 [==============================] - 2s 30ms/step - loss: 0.1113 - accuracy: 0.9617 - val_loss: 0.3374 - val_accuracy: 0.8869\n",
            "Epoch 5/10\n",
            "80/80 [==============================] - 2s 29ms/step - loss: 0.0750 - accuracy: 0.9744 - val_loss: 0.3955 - val_accuracy: 0.8865\n",
            "Epoch 6/10\n",
            "80/80 [==============================] - 2s 30ms/step - loss: 0.0533 - accuracy: 0.9823 - val_loss: 0.4606 - val_accuracy: 0.8830\n",
            "Epoch 7/10\n",
            "80/80 [==============================] - 2s 31ms/step - loss: 0.0418 - accuracy: 0.9858 - val_loss: 0.5003 - val_accuracy: 0.8811\n",
            "Epoch 8/10\n",
            "80/80 [==============================] - 3s 37ms/step - loss: 0.0358 - accuracy: 0.9880 - val_loss: 0.5322 - val_accuracy: 0.8825\n",
            "Epoch 9/10\n",
            "80/80 [==============================] - 2s 29ms/step - loss: 0.0321 - accuracy: 0.9884 - val_loss: 0.6055 - val_accuracy: 0.8786\n",
            "Epoch 10/10\n",
            "80/80 [==============================] - 2s 30ms/step - loss: 0.0292 - accuracy: 0.9905 - val_loss: 0.6126 - val_accuracy: 0.8768\n"
          ]
        }
      ]
    },
    {
      "cell_type": "code",
      "source": [],
      "metadata": {
        "id": "tVSE-J3ALNbY"
      },
      "execution_count": null,
      "outputs": []
    }
  ]
}